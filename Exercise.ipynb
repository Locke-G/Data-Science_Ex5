{
 "cells": [
  {
   "cell_type": "markdown",
   "id": "89d0f270-e012-4d95-850d-fbf05fc42281",
   "metadata": {},
   "source": [
    "## Hausaufgabe 5 \n",
    "\n",
    "### Abgage via studip bis spätestens 10.01. 12:00 Uhr (zur VL)! \n",
    "### Verteidigung 12.01. 08:00-10:00 Uhr (Timeslots werden vorher bekannt gegeben)!\n",
    "\n",
    "\n",
    "- In jedem Blatt kann maximal 5% Bonus erreicht werden, falls:\n",
    "    - Mind. 60% des Arbeitsblatts korrekt bearbeitet wurde und\n",
    "    - das Arbeitsblatt erfolgreich verteidigt (den Tutoren erklärt) wurde.\n",
    "    - Bonus % = 5% * Teil der Hausaufgabe erfolgreich verteidigt\n",
    "    - Erfolgreiche Verteidigung: Ein von uns ausgewähltes Team-Mitglied erklärt die Lösung und beantwortet Fragen dazu.\n",
    "- Wir bewerten nicht nur die Korrektheit der Ergebnisse, sondern auch ob der Code effizient, einfach zu verstehen, aufgeräumt und gut dokumentiert ist."
   ]
  },
  {
   "cell_type": "markdown",
   "id": "c98c6db8-b47c-499d-a5a3-a57cf918f0a0",
   "metadata": {},
   "source": [
    "## Exercise 1\n",
    "**Achtung:** Manche Kommandos sind interaktiv. Daher empfehlen wir alle Anweisungen in einem separaten Terminal auszuführen und anschließend hier zu dokumentieren. \n",
    "\n",
    "**Achtung:** Wir wollen hier das Verwalten von Remote-Repositories, inklusive Forks und Pull-Requests üben. Da es nicht möglich ist sein eigenes Repository zu forken, müssen Sie entweder zwei Benutzer Konten haben (arbeitet in Gruppen) oder Sie legen das Remote-Repository in einer Organisation an (siehe [hier](https://docs.github.com/en/organizations/collaborating-with-groups-in-organizations/creating-a-new-organization-from-scratch)) und forken das Repository dann mit ihrem eigenen Account.  \n",
    "\n",
    "Die Finale Abgabe sollte das gesamte Git-Repository beinhalten, welches zeigt dass Sie alle Befehle korrekt ausgeführt haben."
   ]
  },
  {
   "cell_type": "markdown",
   "id": "f8e2ed09-bdc7-4846-812b-a90a6da9711e",
   "metadata": {},
   "source": [
    "#### a) [2.5%] \n",
    "- Erstellen Sie ein neues lokales Repository \n",
    "- Legen Sie die Dateien `mergesort.py` und `to_be_ignored.txt` in das Repository und commiten Sie sie."
   ]
  },
  {
   "cell_type": "code",
   "execution_count": 2,
   "id": "e9ea1105",
   "metadata": {
    "vscode": {
     "languageId": "shellscript"
    }
   },
   "outputs": [
    {
     "ename": "SyntaxError",
     "evalue": "unexpected character after line continuation character (4089398376.py, line 2)",
     "output_type": "error",
     "traceback": [
      "\u001b[1;36m  Cell \u001b[1;32mIn[2], line 2\u001b[1;36m\u001b[0m\n\u001b[1;33m    cd /Documents/Education/UniGoettingen/WiSe_22-23/DataSci1_\\(6C\\)/Homework/Übung5/Git\\ Example\\ Ex\\ 5/\u001b[0m\n\u001b[1;37m                                                               ^\u001b[0m\n\u001b[1;31mSyntaxError\u001b[0m\u001b[1;31m:\u001b[0m unexpected character after line continuation character\n"
     ]
    }
   ],
   "source": [
    "#Open Bash or Git Bash Terminal and navigate to local directory with cd \n",
    "cd /Documents/Education/UniGoettingen/WiSe_22-23/DataSci1_\\(6C\\)/Homework/Übung5/Git\\ Example\\ Ex\\ 5/\n",
    "#run the following commmand \n",
    "git init\n",
    "cd..\n",
    "#move files to new directory\n",
    "mv mergesort.py Git\\ Example\\ Ex\\ 5/\n",
    "mv to_be_ignored.txt Git\\ Example\\ Ex\\ 5/"
   ]
  },
  {
   "cell_type": "markdown",
   "id": "23b63840-7c4d-40cd-9fe2-c51a869fc0ec",
   "metadata": {},
   "source": [
    "#### b) [5%]\n",
    "- Erstellen Sie eine `.gitignore` Datei (siehe [hier](https://github.com/github/gitignore) für Beispiele von nützlichen gitignore Vorlagen). \n",
    "- Fügen Sie `to_be_ignored.txt` zur `.gitignore` hinzu und entfernen Sie sie aus der Git-Historie."
   ]
  },
  {
   "cell_type": "code",
   "execution_count": null,
   "id": "62f99fbe",
   "metadata": {
    "vscode": {
     "languageId": "shellscript"
    }
   },
   "outputs": [],
   "source": [
    "#go back to previous directory\n",
    "cd /Git\\ Example\\ Ex\\ 5/\n",
    "#add .gitignore with touch\n",
    "touch .gitignore\n",
    "#add file to .gitignore\n",
    "echo 'to_be_ignored.txt' >> .gitignore\n",
    "#remove to_be_ignored.txt from git history\n",
    "git filter-branch --tree-filter 'rm -f to_be_removed.txt' HEAD \n",
    "#or\n",
    "git filter-branch --index filter 'git rm --cached --ignore-unmatched to_be_ignored.txt' HEAD"
   ]
  },
  {
   "cell_type": "markdown",
   "id": "ab7a9d11-89eb-4716-8571-34766d4c976f",
   "metadata": {},
   "source": [
    "#### c) [15%]\n",
    "- Erstellen Sie einen neuen Branch\n",
    "- Bereinigen Sie die Datei `mergesort.py`, um die Regeln für sauberen Code zu befolgen, die wir in der Vorlesung aufgestellt haben. \n",
    "- Versuchen Sie auch, den Code zu verstehen (siehe z.B. [hier](https://www.happycoders.eu/de/algorithmen/mergesort/) für eine Erklärung des Algorithmus) und dokumentieren Sie den Code.\n",
    "- Seine Funktionalität sollte sich nicht ändern!\n",
    "- Es sollte mindestens 7 Punkte geben, die zu verbessern sind.\n",
    "- Commiten Sie Ihre Änderungen. "
   ]
  },
  {
   "cell_type": "code",
   "execution_count": null,
   "id": "75e295c5",
   "metadata": {
    "vscode": {
     "languageId": "shellscript"
    }
   },
   "outputs": [],
   "source": [
    "#create new branch\n",
    "git checkout -b New_Branch"
   ]
  },
  {
   "attachments": {},
   "cell_type": "markdown",
   "id": "dfaaca4a",
   "metadata": {},
   "source": [
    "Code Erklärung - mergesort.py\n",
    "\n",
    "Dieser Code definiert eine Funktion mit dem Namen mergeSort, die eine Liste mithilfe des Merge-Sort-Algorithmus sortiert. Der Merge-Sort-Algorithmus ist ein Divide-and-Conquer-Algorithmus, der dadurch arbeitet, dass die Eingabeliste rekursiv in kleinere Teillisten unterteilt wird, bis jede Teilliste nur noch ein Element enthält, und diese Teillisten dann wieder in sortierter Reihenfolge zusammengeführt werden.\n",
    "\n",
    "Die Funktion mergeSort nimmt eine Liste als Eingabe und prüft, ob die Liste mehr als ein Element enthält. Wenn die Liste mehr als ein Element enthält, wird sie mithilfe der Ganzzahldivision in zwei Hälften, links und rechts, unterteilt. Die Funktion ruft sich dann rekursiv für die beiden Hälften auf, um sie zu sortieren.\n",
    "\n",
    "Nachdem die linken und rechten Hälften sortiert sind, werden sie von der Funktion wieder in sortierter Reihenfolge zusammengefügt. Dies geschieht, indem das erste Element jeder Hälfte verglichen wird und das kleinere Element der Ergebnisliste hinzugefügt wird. Dieser Vorgang wird fortgesetzt, bis beide Hälften aufgebraucht sind.\n",
    "\n",
    "Schließlich zeichnet die Funktion die ursprüngliche Liste und die sortierte Liste mithilfe der Bibliothek Matplotlib auf."
   ]
  },
  {
   "cell_type": "markdown",
   "id": "1c131abc-c1b0-4b97-ac37-04abad5f5e99",
   "metadata": {},
   "source": [
    "#### d) [5%]\n",
    "- Erstellen Sie ein neues Repository auf GitHub (machen Sie es public). \n",
    "- Richten Sie eine ssh-Verifizierung für Ihr GitHub-Konto ein. \n",
    "- Fügen Sie die ssh-Adresse Ihres Repositorys als neues remote Repository zu Ihrem lokalen Repository hinzu.  "
   ]
  },
  {
   "cell_type": "code",
   "execution_count": null,
   "id": "be3b9797",
   "metadata": {
    "vscode": {
     "languageId": "shellscript"
    }
   },
   "outputs": [],
   "source": [
    "git remote add origin git@github.com:Locke-G/Data-Science_Ex5.git\n",
    "git branch -M New_Branch\n",
    "git push -u origin New_Branch"
   ]
  },
  {
   "cell_type": "markdown",
   "id": "5a03706d-c986-48c9-9207-2ff59770b7f4",
   "metadata": {},
   "source": [
    "#### e) [2.5%]\n",
    "- Wechseln Sie zurück zum `main` Branch.\n",
    "- Pushen Sie in Ihr remote Repository"
   ]
  },
  {
   "cell_type": "code",
   "execution_count": null,
   "id": "fe7c6a6e",
   "metadata": {
    "vscode": {
     "languageId": "shellscript"
    }
   },
   "outputs": [],
   "source": [
    "#check is previous brach exsists \n",
    "git branch \n",
    "#switch branch \n",
    "git checkout main \n",
    "#push to Repository\n",
    "git add .\n",
    "git commit -m \"Initial commit\"\n",
    "git push -u -f origin main "
   ]
  },
  {
   "cell_type": "markdown",
   "id": "6d91483e-0a00-4fba-958d-fea707fd47e2",
   "metadata": {},
   "source": [
    "#### f) [5%]\n",
    "- Ändern Sie den Plotting-Teil von `mergesort.py` so, dass er die in der Vorlesung festgelegten Standards widerspiegelt. (Versuchen Sie auch zu überlegen, was die beste Art Plot für diese Daten sein könnte.)\n",
    "- Commiten Sie es und pushen Sie es in das remote Repository."
   ]
  },
  {
   "cell_type": "code",
   "execution_count": null,
   "id": "f848a061",
   "metadata": {
    "vscode": {
     "languageId": "shellscript"
    }
   },
   "outputs": [],
   "source": [
    "git add .\n",
    "git commit -m \"Ex 1 part f\"\n",
    "git push -u -f origin main "
   ]
  },
  {
   "cell_type": "markdown",
   "id": "3f4d7088-60b8-41b5-9806-114839f8e8cb",
   "metadata": {},
   "source": [
    "#### g) [2.5%]\n",
    " - Wechseln Sie zurück zum vorherigen Branch. \n",
    " - Erstellen Sie einen Fork des remote Repositorys auf GitHub. **Dies muss durch einen anderen Benutzer geschehen, falls das original Repository nicht zu einer Organisation gehört!**  \n",
    " - Fügen Sie den Fork als weiteres remote Repository zu Ihrem lokalen Repository hinzu. \n",
    " - Pushen Sie Ihren lokalen Branch in den Fork und erstellen Sie einen Pull-Request auf GitHub."
   ]
  },
  {
   "cell_type": "code",
   "execution_count": null,
   "id": "36d55c11",
   "metadata": {},
   "outputs": [],
   "source": []
  },
  {
   "cell_type": "markdown",
   "id": "6d9dbf98-3ea2-4b7f-8b8b-eb4526784c28",
   "metadata": {},
   "source": [
    "#### h) [10%]\n",
    "- Der Pull-Request sollte anzeigen, dass es Konflikte gibt. \n",
    "- Mergen Sie den `main`-Branch (lokal auf Ihrem Computer) in Ihren Feature-Branch ein (nicht umgekehrt!) und lösen Sie die Konflikte.\n",
    "- Pushen Sie Ihren Feature-Branch wieder in Ihren Fork und mergen Sie den Pull-Request."
   ]
  },
  {
   "cell_type": "code",
   "execution_count": null,
   "id": "2248a9a7",
   "metadata": {},
   "outputs": [],
   "source": []
  },
  {
   "cell_type": "markdown",
   "id": "8f690324-815f-4e2e-807b-3e6f87f483dd",
   "metadata": {},
   "source": [
    "#### i) [2.5%]\n",
    "- Wechseln Sie zurück zum \"main\"-Branch und pullen Sie aus dem remote Repository.\n",
    "- Löschen Sie den lokalen Feature-Branch (er ist ja bereits im main Branch)."
   ]
  },
  {
   "cell_type": "code",
   "execution_count": null,
   "id": "677abe5f",
   "metadata": {},
   "outputs": [],
   "source": []
  },
  {
   "cell_type": "markdown",
   "id": "d44e4b00-95cf-4be3-8b46-90d53bfad0aa",
   "metadata": {},
   "source": [
    "Zeigen Sie ihre Git-Historie an:"
   ]
  },
  {
   "cell_type": "code",
   "execution_count": null,
   "id": "b4db096d-eeaf-442e-8620-6b76bb4f33eb",
   "metadata": {},
   "outputs": [],
   "source": [
    "git log"
   ]
  },
  {
   "cell_type": "markdown",
   "id": "2932b317-11a9-4cfd-9757-519c0cd4a396",
   "metadata": {},
   "source": [
    "## Exercise 2"
   ]
  },
  {
   "cell_type": "markdown",
   "id": "39e88314-ea52-4e2a-a106-41e006e64b29",
   "metadata": {},
   "source": [
    "Betrachten Sie die folgende Aufgabe:\n",
    "\n",
    "Gegeben eine Array von Intergern in dem alle Elemente außer eins genau zweimal vorkommen, finden Sie das einzelne Element.\n",
    "\n",
    "Beispiel: `[1,2,3,4,3,1,2]`\n",
    "\n",
    "Das einzelne Element ist: `4`\n",
    "\n",
    "Sie können annehmen dass das Array ungerade Länge hat und es nur eine Element gibt dass nur genau einmal vorkommt.\n",
    "\n",
    "Hinweis: Die folgenden Aufgaben müssen nicht notwendigerweise in Reihenfolge bearbeitet werden.\n"
   ]
  },
  {
   "cell_type": "markdown",
   "id": "1be8bfc4-a31b-49ee-8ceb-f8c8daa863de",
   "metadata": {},
   "source": [
    "#### a) [15%] Schreiben Sie test-Fälle für die oben beschrieben Aufgabe. \n",
    "(Mind. 5 Testfälle nötig!) \n",
    "Denken Sie an mögliche Randfälle und ungültige Eingaben.\n",
    "\n",
    "**Benutzen sie `pytest` und schreiben Sie die Tests in separate Dateien.**"
   ]
  },
  {
   "cell_type": "markdown",
   "id": "1a6141b7-2f71-4ff2-8dfe-55e837ee512e",
   "metadata": {},
   "source": [
    "#### b) [10%] Basierend auf den test-Fällen, schreiben Sie eine Methode welche den Task erfolgreich (und effizient) löst."
   ]
  },
  {
   "cell_type": "markdown",
   "id": "fe34d47b-87c5-4b09-9971-afa77a183380",
   "metadata": {},
   "source": [
    "Die Methode soll ebenfalls in eine separate Datei geschrieben werden."
   ]
  },
  {
   "cell_type": "markdown",
   "id": "4af37373-85a5-4e27-96a9-0c093f56a2c8",
   "metadata": {},
   "source": [
    "#### c) [10%] Schreiben Sie ein Docker-File welches `numpy`, `pandas`, `matplotlib` und `seaborn` installiert. "
   ]
  },
  {
   "cell_type": "markdown",
   "id": "4101f101-6a16-4308-add4-f4dc94ec8a9c",
   "metadata": {},
   "source": [
    "#### d) [15%] Schreiben Sie eine Docker-compose Datei, welche zwei verschiedene services anbietet:\n",
    "\n",
    "1. Alle Tests durchlaufen lassen\n",
    "2. Die Methode für einen gegebenen Input laufen lassen.\n",
    "\n",
    "Stellen Sie auch sicher dass der Container das Verzeichnis mit Ihren Skripten mountet, sodass Sie zugriff auf die aktuelle Version Ihres Codes haben.\n",
    "\n",
    "Demonstrieren Sie in einem Test auch dass die angegebenen Libraries aus c) erfolgreich installiert sind."
   ]
  },
  {
   "cell_type": "code",
   "execution_count": null,
   "id": "feb8fb48-b980-4e0f-8c16-1373e375c63b",
   "metadata": {},
   "outputs": [],
   "source": []
  }
 ],
 "metadata": {
  "kernelspec": {
   "display_name": "Python 3",
   "language": "python",
   "name": "python3"
  },
  "language_info": {
   "codemirror_mode": {
    "name": "ipython",
    "version": 3
   },
   "file_extension": ".py",
   "mimetype": "text/x-python",
   "name": "python",
   "nbconvert_exporter": "python",
   "pygments_lexer": "ipython3",
   "version": "3.10.9 (tags/v3.10.9:1dd9be6, Dec  6 2022, 20:01:21) [MSC v.1934 64 bit (AMD64)]"
  },
  "vscode": {
   "interpreter": {
    "hash": "e9e375da22a79186ffe49072ae6df2c8be50fc2c627f3d12cad18e70942528a3"
   }
  }
 },
 "nbformat": 4,
 "nbformat_minor": 5
}
